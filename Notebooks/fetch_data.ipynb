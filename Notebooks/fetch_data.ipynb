{
 "cells": [
  {
   "cell_type": "code",
   "execution_count": 4,
   "id": "f1500d41-214c-499f-9737-021cfe293412",
   "metadata": {},
   "outputs": [],
   "source": [
    "from bs4 import BeautifulSoup\n",
    "import requests\n",
    "import re"
   ]
  },
  {
   "cell_type": "code",
   "execution_count": 5,
   "id": "d036287e-76aa-40ad-bb62-eb825a1e8048",
   "metadata": {},
   "outputs": [],
   "source": [
    "character_urls = {\n",
    "    \"Monkey D. Luffy\": \"https://onepiece.fandom.com/wiki/Monkey_D._Luffy\",\n",
    "    \"Roronoa Zoro\": \"https://onepiece.fandom.com/wiki/Roronoa_Zoro\",\n",
    "    \"Nami\": \"https://onepiece.fandom.com/wiki/Nami\",\n",
    "    \"Usopp\": \"https://onepiece.fandom.com/wiki/Usopp\",\n",
    "    \"Sanji\": \"https://onepiece.fandom.com/wiki/Sanji\",\n",
    "    \"Tony Tony Chopper\": \"https://onepiece.fandom.com/wiki/Tony_Tony_Chopper\",\n",
    "    \"Nico Robin\": \"https://onepiece.fandom.com/wiki/Nico_Robin\",\n",
    "    \"Franky\": \"https://onepiece.fandom.com/wiki/Franky\",\n",
    "    \"Brook\": \"https://onepiece.fandom.com/wiki/Brook\",\n",
    "    \"Jinbe\": \"https://onepiece.fandom.com/wiki/Jinbe\",\n",
    "    \"Portgas D. Ace\": \"https://onepiece.fandom.com/wiki/Portgas_D._Ace\",\n",
    "    \"Shanks\": \"https://onepiece.fandom.com/wiki/Shanks\",\n",
    "    \"Edward Newgate (Whitebeard)\": \"https://onepiece.fandom.com/wiki/Edward_Newgate\",\n",
    "    \"Gol D. Roger\": \"https://onepiece.fandom.com/wiki/Gol_D._Roger\",\n",
    "    \"Silvers Rayleigh\": \"https://onepiece.fandom.com/wiki/Silvers_Rayleigh\",\n",
    "    \"Buggy\": \"https://onepiece.fandom.com/wiki/Buggy\",\n",
    "    \"Dracule Mihawk\": \"https://onepiece.fandom.com/wiki/Dracule_Mihawk\",\n",
    "    \"Boa Hancock\": \"https://onepiece.fandom.com/wiki/Boa_Hancock\",\n",
    "    \"Donquixote Doflamingo\": \"https://onepiece.fandom.com/wiki/Donquixote_Doflamingo\",\n",
    "    \"Crocodile\": \"https://onepiece.fandom.com/wiki/Crocodile\",\n",
    "    \"Enel\": \"https://onepiece.fandom.com/wiki/Enel\",\n",
    "    \"Trafalgar D. Water Law\": \"https://onepiece.fandom.com/wiki/Trafalgar_D._Water_Law\",\n",
    "    \"Eustass Kid\": \"https://onepiece.fandom.com/wiki/Eustass_Kid\",\n",
    "    \"Kaido\": \"https://onepiece.fandom.com/wiki/Kaido\",\n",
    "    \"Charlotte Linlin (Big Mom)\": \"https://onepiece.fandom.com/wiki/Charlotte_Linlin\",\n",
    "    \"Marshall D. Teach (Blackbeard)\": \"https://onepiece.fandom.com/wiki/Marshall_D._Teach\",\n",
    "    \"Sabo\": \"https://onepiece.fandom.com/wiki/Sabo\",\n",
    "    \"Kozuki Oden\": \"https://onepiece.fandom.com/wiki/Kozuki_Oden\",\n",
    "    \"Killer\": \"https://onepiece.fandom.com/wiki/Killer\",\n",
    "    \"Kin'emon\": \"https://onepiece.fandom.com/wiki/Kin%27emon\",\n",
    "    \"Koby\": \"https://onepiece.fandom.com/wiki/Koby\",\n",
    "    \"Smoker\": \"https://onepiece.fandom.com/wiki/Smoker\",\n",
    "    \"Sengoku\": \"https://onepiece.fandom.com/wiki/Sengoku\",\n",
    "    \"Monkey D. Garp\": \"https://onepiece.fandom.com/wiki/Monkey_D._Garp\",\n",
    "    \"Sakazuki (Akainu)\": \"https://onepiece.fandom.com/wiki/Sakazuki\",\n",
    "    \"Borsalino (Kizaru)\": \"https://onepiece.fandom.com/wiki/Borsalino\",\n",
    "    \"Issho (Fujitora)\": \"https://onepiece.fandom.com/wiki/Issho\",\n",
    "    \"Kuzan (Aokiji)\": \"https://onepiece.fandom.com/wiki/Kuzan\",\n",
    "    \"Donquixote Rosinante\": \"https://onepiece.fandom.com/wiki/Donquixote_Rosinante\",\n",
    "    \"Bartolomeo\": \"https://onepiece.fandom.com/wiki/Bartolomeo\",\n",
    "    \"Cavendish\": \"https://onepiece.fandom.com/wiki/Cavendish\",\n",
    "    \"Bellamy\": \"https://onepiece.fandom.com/wiki/Bellamy\",\n",
    "    \"Pedro\": \"https://onepiece.fandom.com/wiki/Pedro\",\n",
    "    \"Carrot\": \"https://onepiece.fandom.com/wiki/Carrot\",\n",
    "    \"Shirahoshi\": \"https://onepiece.fandom.com/wiki/Shirahoshi\",\n",
    "    \"Vinsmoke Reiju\": \"https://onepiece.fandom.com/wiki/Vinsmoke_Reiju\",\n",
    "    \"Vinsmoke Judge\": \"https://onepiece.fandom.com/wiki/Vinsmoke_Judge\",\n",
    "    \"Hody Jones\": \"https://onepiece.fandom.com/wiki/Hody_Jones\",\n",
    "    \"Caesar Clown\": \"https://onepiece.fandom.com/wiki/Caesar_Clown\",\n",
    "    \"Capone Bege\": \"https://onepiece.fandom.com/wiki/Capone_Bege\"\n",
    "}\n"
   ]
  },
  {
   "cell_type": "code",
   "execution_count": null,
   "id": "cfaf563f-4b34-4407-ab09-68566a3d93f9",
   "metadata": {},
   "outputs": [],
   "source": []
  },
  {
   "cell_type": "code",
   "execution_count": null,
   "id": "968fb4ac-c4be-4930-aa6a-63dbb4518204",
   "metadata": {},
   "outputs": [],
   "source": [
    "\n",
    "    "
   ]
  },
  {
   "cell_type": "code",
   "execution_count": null,
   "id": "799a63c4-261f-4482-b4ef-fc6790563909",
   "metadata": {},
   "outputs": [],
   "source": []
  },
  {
   "cell_type": "raw",
   "id": "0341bae2-c454-4557-a992-c445fee84c20",
   "metadata": {},
   "source": []
  },
  {
   "cell_type": "code",
   "execution_count": 106,
   "id": "45ebc38c-6b8d-473f-b6bd-7826da598c05",
   "metadata": {},
   "outputs": [],
   "source": [
    "url = 'https://onepiece.fandom.com/wiki/Issho' # Char's wiki URL\n",
    "\n",
    "response = requests.get(url)\n",
    "html = response.content\n",
    "soup = BeautifulSoup(html,'html.parser')"
   ]
  },
  {
   "cell_type": "markdown",
   "id": "e9020321-5969-4e25-a7ec-3eb43ca88e3c",
   "metadata": {},
   "source": [
    "## Getting the name of the char"
   ]
  },
  {
   "cell_type": "code",
   "execution_count": 107,
   "id": "515b0893-1640-4545-9fe5-3450919cb2a7",
   "metadata": {},
   "outputs": [
    {
     "data": {
      "text/plain": [
       "'Issho'"
      ]
     },
     "execution_count": 107,
     "metadata": {},
     "output_type": "execute_result"
    }
   ],
   "source": [
    "#--------GET NAME----------#\n",
    "aside = soup.find_all('aside')\n",
    "get_name_text = aside[0].find('h2')\n",
    "nametext= get_name_text.get_text()\n",
    "nametext\n",
    "test = nametext\n",
    "test\n",
    "#--------GET NAME----------#"
   ]
  },
  {
   "cell_type": "markdown",
   "id": "666af953-be7b-4df8-8e31-3e8e49ab043c",
   "metadata": {},
   "source": [
    "## Getting the affiliation of the char"
   ]
  },
  {
   "cell_type": "code",
   "execution_count": 108,
   "id": "bd55faa6-182c-4f9c-b677-49dffdd7fdb5",
   "metadata": {},
   "outputs": [
    {
     "name": "stdout",
     "output_type": "stream",
     "text": [
      "Marines\n"
     ]
    }
   ],
   "source": [
    "#-------------GET AFFILIATION---------------------------#\n",
    "try:\n",
    "   affiliation = soup.find(attrs={\"data-source\": \"affiliation\"})\n",
    "   get_affiliation_text = affiliation.find('a')\n",
    "   affiliation_text = get_affiliation_text.get_text()\n",
    "   print(affiliation_text)\n",
    "except:\n",
    "    print('Couldnt find any affiliation')\n",
    "#-------------GET AFFILIATION---------------------------#"
   ]
  },
  {
   "cell_type": "markdown",
   "id": "21fc0f74-01be-4a6a-8431-1e810eea193a",
   "metadata": {},
   "source": [
    "## Getting the Devil Fruit of the char"
   ]
  },
  {
   "cell_type": "code",
   "execution_count": 109,
   "id": "9ec48be4-13f8-473c-a233-933d87ff8607",
   "metadata": {},
   "outputs": [
    {
     "name": "stdout",
     "output_type": "stream",
     "text": [
      "Paramecia\n"
     ]
    }
   ],
   "source": [
    "#------------GET DEVIL FRUIT---------------------------#\n",
    "try:\n",
    "  devilfruit = soup.find(attrs={\"data-source\": \"dftype\"})\n",
    "  get_devilfruit_text = devilfruit.find('a')\n",
    "  devilfruit_text = get_devilfruit_text.get_text()\n",
    "  print(devilfruit_text)\n",
    "except:\n",
    "    print('This Char does not have a devil fruit')#------------GET DEVIL FRUIT---------------------------#"
   ]
  },
  {
   "cell_type": "markdown",
   "id": "7bc9fe78-676b-4d83-a530-38cb780c18bc",
   "metadata": {},
   "source": [
    "## Getting the Haki Users ##"
   ]
  },
  {
   "cell_type": "code",
   "execution_count": 110,
   "id": "bf137ea3-7ddc-4bcf-94c2-2c9667ff1f77",
   "metadata": {
    "scrolled": true
   },
   "outputs": [
    {
     "name": "stdout",
     "output_type": "stream",
     "text": [
      "Issho has: Observation And Armament\n"
     ]
    }
   ],
   "source": [
    "##---------------GET HAKI USER------------------##\n",
    "\n",
    "\n",
    "haki_user_type = 0  # 0 for all 1 for sao 2 for oaa 3 for oo 4 for oa \n",
    "all_haki = []\n",
    "sao = []\n",
    "oaa = []\n",
    "oo = []\n",
    "oa = []\n",
    "haki_users = {'All Types': None ,\n",
    "              'Supreme King And Observation': None ,\n",
    "              'Observation And Armament': None ,\n",
    "              'Only Observation': None , \n",
    "              'Only Armament' : None , }\n",
    "\n",
    "haki_url = 'https://onepiece.fandom.com/wiki/Haki'\n",
    "haki_response = requests.get(haki_url)\n",
    "haki_html  = haki_response.content\n",
    "haki_soup = BeautifulSoup(haki_html,'html.parser')\n",
    "\n",
    "haki_tbody = haki_soup.find_all('small')\n",
    "\n",
    "for current_user in haki_tbody:\n",
    "    user = current_user.get_text()\n",
    "\n",
    "    if user == 'John Giant':\n",
    "        break\n",
    "    \n",
    "    if user == 'Marcus Mars':\n",
    "        haki_user_type = 1\n",
    "    elif user == 'Boa Marigold':\n",
    "        haki_user_type = 2\n",
    "    elif user == 'Satori':\n",
    "        haki_user_type = 3\n",
    "    elif user == 'Marguerite':\n",
    "        haki_user_type = 4\n",
    "\n",
    "    if user == 'Joy Boy':\n",
    "        continue\n",
    "    elif haki_user_type == 0 : \n",
    "        all_haki.append(user)\n",
    "    elif haki_user_type == 1 :\n",
    "        sao.append(user)\n",
    "    elif haki_user_type == 2 : \n",
    "        oaa.append(user)\n",
    "    elif haki_user_type == 3 : \n",
    "        oo.append(user)\n",
    "    elif haki_user_type == 4 : \n",
    "        oa.append(user)\n",
    "        \n",
    "\n",
    "\n",
    "\n",
    "\n",
    "all_haki = [re.sub(r'\\s*\\(.*?\\)|\\xa0|\\†|≠|\\?', '', char).strip() for char in all_haki]\n",
    "oaa = [re.sub(r'\\s*\\(.*?\\)|\\xa0|\\†|≠|\\?', '', char).strip() for char in oaa]\n",
    "oo = [re.sub(r'\\s*\\(.*?\\)|\\xa0|\\†|≠|\\?', '', char).strip() for char in oo]\n",
    "oa = [re.sub(r'\\s*\\(.*?\\)|\\xa0|\\†|≠|\\?', '', char).strip() for char in oa]\n",
    "\n",
    "\n",
    "haki_users['All Types'] = all_haki\n",
    "haki_users['Supreme King And Observation'] = sao\n",
    "haki_users['Observation And Armament'] = oaa\n",
    "haki_users['Only Observation'] = oo\n",
    "haki_users['Only Armament'] = oa\n",
    "\n",
    "for key, char_list in haki_users.items():\n",
    "    if test in char_list:\n",
    "        print(f\"{test} has: {key}\")\n",
    "        break  # Eğer birden fazla anahtarda olmasını istemiyorsanız bu satırı kullanın.\n",
    "else:\n",
    "    print(f\"{test} has not any type of haki\")\n",
    "\n",
    "##---------------GET HAKI USER------------------##"
   ]
  },
  {
   "cell_type": "markdown",
   "id": "9c96b53b-3dde-44c4-a2fb-84bafacf24d7",
   "metadata": {},
   "source": [
    "## Getting the bounty if exists"
   ]
  },
  {
   "cell_type": "code",
   "execution_count": 111,
   "id": "bceabd65-f687-41a7-9f30-6467fbce12aa",
   "metadata": {},
   "outputs": [
    {
     "name": "stdout",
     "output_type": "stream",
     "text": [
      "3000000000\n"
     ]
    }
   ],
   "source": [
    "#-------------------GET BOUNTY---------------------#\n",
    "try:\n",
    "  bounty = soup.find(attrs={\"data-source\": \"bounty\"})\n",
    "  get_bounty_text = bounty.find('div')\n",
    "  bounty_text = get_bounty_text.get_text()\n",
    "  bounty_text = bounty_text.split('[')[0].replace(',','').replace('(','').replace(')','')\n",
    "  print(bounty_text)\n",
    "except:\n",
    "    print('This Char does not have a bounty on him/her')\n",
    "\n",
    "\n",
    "#-------------------GET BOUNTY---------------------#"
   ]
  },
  {
   "cell_type": "markdown",
   "id": "83ae6bb7-3716-42a6-b2be-70156ad78437",
   "metadata": {},
   "source": [
    "## Getting the height of Char"
   ]
  },
  {
   "cell_type": "code",
   "execution_count": null,
   "id": "82b1d70b-f8ae-4e9f-bdea-b3f33f389a1e",
   "metadata": {},
   "outputs": [],
   "source": []
  },
  {
   "cell_type": "code",
   "execution_count": 112,
   "id": "e7e4c356-8f84-4d9a-95d8-c46d194dd180",
   "metadata": {},
   "outputs": [
    {
     "name": "stdout",
     "output_type": "stream",
     "text": [
      "En güncel boy: 270 cm\n"
     ]
    }
   ],
   "source": [
    "#----------------GET HEIGHT---------------#\n",
    "height = soup.find(attrs={\"data-source\": \"height\"})\n",
    "get_height_text = height.find('div')\n",
    "height_text = get_height_text.get_text()\n",
    "\n",
    "heights = re.findall(r'\\d+\\s*cm', height_text)\n",
    "\n",
    "if heights:\n",
    "    latest_height = heights[-1]\n",
    "    height_text = latest_height\n",
    "    print(f\"En güncel boy: {height_text}\")\n",
    "else:\n",
    "    height_text ='Unknown'\n",
    "    print(height_text)\n",
    "\n",
    "#----------------GET HEIGHT---------------#"
   ]
  },
  {
   "cell_type": "markdown",
   "id": "ea6712d2-da5d-4026-8673-a5054c470b55",
   "metadata": {},
   "source": [
    "## Getting where the character is from"
   ]
  },
  {
   "cell_type": "code",
   "execution_count": 113,
   "id": "3c103958-c1fd-4f44-81a4-26de1f69e4a1",
   "metadata": {},
   "outputs": [
    {
     "name": "stdout",
     "output_type": "stream",
     "text": [
      "Grand Line\n"
     ]
    }
   ],
   "source": [
    "#--------------------GET ORIGIN-----------------#\n",
    "try:\n",
    " origin = soup.find(attrs={\"data-source\": \"origin\"})\n",
    " get_origin_text = origin.find('a')\n",
    " origin_text = get_origin_text.get_text()\n",
    " print(origin_text)\n",
    "except:\n",
    "    origin_text ='Unknown'\n",
    "    print(origin_text)\n",
    "#--------------------GET ORIGIN-----------------#"
   ]
  },
  {
   "cell_type": "code",
   "execution_count": 131,
   "id": "52700bcb-ce34-4252-a53d-023b6b682dfc",
   "metadata": {},
   "outputs": [
    {
     "name": "stdout",
     "output_type": "stream",
     "text": [
      "Issho.jpg başarıyla kaydedildi.\n",
      "Issho.jpg\n"
     ]
    }
   ],
   "source": [
    "import requests\n",
    "\n",
    "# Örnek kullanım: Görsel URL'sini çekme\n",
    "image = soup.find('aside')\n",
    "image_a = image.find('img')\n",
    "\n",
    "source = image_a['srcset']\n",
    "\n",
    "filename = test.translate(str.maketrans('ıİçÇşŞğĞüÜöÖ ', 'iIcCsSgGuUoO_')) + \".jpg\"\n",
    "\n",
    "photo = requests.get(source)\n",
    "\n",
    "if photo.status_code != 200:\n",
    "    print('Something went wrong')\n",
    "else:\n",
    "    with open(filename, 'wb') as f:\n",
    "        f.write(photo.content)\n",
    "        print(f\"{filename} başarıyla kaydedildi.\")\n",
    "\n",
    "print(filename)\n"
   ]
  },
  {
   "cell_type": "code",
   "execution_count": null,
   "id": "6c0780c9-80d8-4044-889a-1623d540903a",
   "metadata": {},
   "outputs": [],
   "source": []
  },
  {
   "cell_type": "code",
   "execution_count": null,
   "id": "4783a28a-43bb-43e0-bd6a-3b853fed1e7a",
   "metadata": {},
   "outputs": [],
   "source": []
  },
  {
   "cell_type": "code",
   "execution_count": null,
   "id": "7cdbda92-59e8-4a2f-9c7a-cb9967adca17",
   "metadata": {},
   "outputs": [],
   "source": []
  },
  {
   "cell_type": "code",
   "execution_count": null,
   "id": "5e39d630-1a8f-47f1-be1a-d1f6f8271170",
   "metadata": {},
   "outputs": [],
   "source": []
  },
  {
   "cell_type": "code",
   "execution_count": null,
   "id": "8cea1f25-7c2a-4d4b-8907-f05c63f346ac",
   "metadata": {},
   "outputs": [],
   "source": []
  }
 ],
 "metadata": {
  "kernelspec": {
   "display_name": "Python 3 (ipykernel)",
   "language": "python",
   "name": "python3"
  },
  "language_info": {
   "codemirror_mode": {
    "name": "ipython",
    "version": 3
   },
   "file_extension": ".py",
   "mimetype": "text/x-python",
   "name": "python",
   "nbconvert_exporter": "python",
   "pygments_lexer": "ipython3",
   "version": "3.11.9"
  }
 },
 "nbformat": 4,
 "nbformat_minor": 5
}
